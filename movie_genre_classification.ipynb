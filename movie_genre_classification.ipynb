{
  "nbformat": 4,
  "nbformat_minor": 0,
  "metadata": {
    "colab": {
      "provenance": []
    },
    "kernelspec": {
      "name": "python3",
      "display_name": "Python 3"
    },
    "language_info": {
      "name": "python"
    }
  },
  "cells": [
    {
      "cell_type": "markdown",
      "source": [
        "#**Movie Genre Classification**"
      ],
      "metadata": {
        "id": "KHlj-szXAfDb"
      }
    },
    {
      "cell_type": "markdown",
      "source": [
        "##1. **Introduction:**\n",
        "This project builds a machine learning model to predict movie genres from plot summaries. Using text preprocessing techniques like TF-IDF and classifiers such as Naive Bayes, Logistic Regression, or SVM, the model is trained and evaluated on metrics like accuracy and F1-score for robust performance."
      ],
      "metadata": {
        "id": "bK0jkr6MBzTW"
      }
    },
    {
      "cell_type": "markdown",
      "source": [
        "###**2. Imporing Libraries and loading datasets**"
      ],
      "metadata": {
        "id": "bJYY8HXyClhe"
      }
    },
    {
      "cell_type": "code",
      "execution_count": 1,
      "metadata": {
        "id": "4bmaJGOX_1a1"
      },
      "outputs": [],
      "source": [
        "import pandas as pd\n",
        "import numpy as np\n",
        "import nltk\n",
        "from sklearn.feature_extraction.text import TfidfVectorizer\n",
        "from sklearn.model_selection import train_test_split, GridSearchCV\n",
        "from sklearn.naive_bayes import MultinomialNB\n",
        "from sklearn.linear_model import LogisticRegression\n",
        "from sklearn.svm import SVC\n",
        "from sklearn.metrics import accuracy_score, precision_score, recall_score, f1_score\n",
        "import gensim\n",
        "import matplotlib.pyplot as plt\n",
        "import seaborn as sns"
      ]
    },
    {
      "cell_type": "code",
      "source": [
        "df=pd.read_csv('/content/train_data.txt', sep=':::', names=['Title','Genre','Description'])"
      ],
      "metadata": {
        "colab": {
          "base_uri": "https://localhost:8080/"
        },
        "id": "Etwti1IuG3AB",
        "outputId": "d45bfa9d-99fc-42d6-96a4-da74c81ac275"
      },
      "execution_count": 2,
      "outputs": [
        {
          "output_type": "stream",
          "name": "stderr",
          "text": [
            "<ipython-input-2-163438a39507>:1: ParserWarning: Falling back to the 'python' engine because the 'c' engine does not support regex separators (separators > 1 char and different from '\\s+' are interpreted as regex); you can avoid this warning by specifying engine='python'.\n",
            "  df=pd.read_csv('/content/train_data.txt', sep=':::', names=['Title','Genre','Description'])\n"
          ]
        }
      ]
    },
    {
      "cell_type": "code",
      "source": [
        "#reviewing the dataset\n",
        "\n",
        "df.head()"
      ],
      "metadata": {
        "colab": {
          "base_uri": "https://localhost:8080/",
          "height": 206
        },
        "id": "kOAvHvaHIGE1",
        "outputId": "4e620b2c-078a-4d9a-d86d-219601cf6df8"
      },
      "execution_count": 4,
      "outputs": [
        {
          "output_type": "execute_result",
          "data": {
            "text/plain": [
              "                                Title       Genre  \\\n",
              "1       Oscar et la dame rose (2009)       drama    \n",
              "2                       Cupid (1997)    thriller    \n",
              "3   Young, Wild and Wonderful (1980)       adult    \n",
              "4              The Secret Sin (1915)       drama    \n",
              "5             The Unrecovered (2007)       drama    \n",
              "\n",
              "                                         Description  \n",
              "1   Listening in to a conversation between his do...  \n",
              "2   A brother and sister with a past incestuous r...  \n",
              "3   As the bus empties the students for their fie...  \n",
              "4   To help their unemployed father make ends mee...  \n",
              "5   The film's title refers not only to the un-re...  "
            ],
            "text/html": [
              "\n",
              "  <div id=\"df-840c2a31-79ae-4c32-91b1-2f260b2e6ff0\" class=\"colab-df-container\">\n",
              "    <div>\n",
              "<style scoped>\n",
              "    .dataframe tbody tr th:only-of-type {\n",
              "        vertical-align: middle;\n",
              "    }\n",
              "\n",
              "    .dataframe tbody tr th {\n",
              "        vertical-align: top;\n",
              "    }\n",
              "\n",
              "    .dataframe thead th {\n",
              "        text-align: right;\n",
              "    }\n",
              "</style>\n",
              "<table border=\"1\" class=\"dataframe\">\n",
              "  <thead>\n",
              "    <tr style=\"text-align: right;\">\n",
              "      <th></th>\n",
              "      <th>Title</th>\n",
              "      <th>Genre</th>\n",
              "      <th>Description</th>\n",
              "    </tr>\n",
              "  </thead>\n",
              "  <tbody>\n",
              "    <tr>\n",
              "      <th>1</th>\n",
              "      <td>Oscar et la dame rose (2009)</td>\n",
              "      <td>drama</td>\n",
              "      <td>Listening in to a conversation between his do...</td>\n",
              "    </tr>\n",
              "    <tr>\n",
              "      <th>2</th>\n",
              "      <td>Cupid (1997)</td>\n",
              "      <td>thriller</td>\n",
              "      <td>A brother and sister with a past incestuous r...</td>\n",
              "    </tr>\n",
              "    <tr>\n",
              "      <th>3</th>\n",
              "      <td>Young, Wild and Wonderful (1980)</td>\n",
              "      <td>adult</td>\n",
              "      <td>As the bus empties the students for their fie...</td>\n",
              "    </tr>\n",
              "    <tr>\n",
              "      <th>4</th>\n",
              "      <td>The Secret Sin (1915)</td>\n",
              "      <td>drama</td>\n",
              "      <td>To help their unemployed father make ends mee...</td>\n",
              "    </tr>\n",
              "    <tr>\n",
              "      <th>5</th>\n",
              "      <td>The Unrecovered (2007)</td>\n",
              "      <td>drama</td>\n",
              "      <td>The film's title refers not only to the un-re...</td>\n",
              "    </tr>\n",
              "  </tbody>\n",
              "</table>\n",
              "</div>\n",
              "    <div class=\"colab-df-buttons\">\n",
              "\n",
              "  <div class=\"colab-df-container\">\n",
              "    <button class=\"colab-df-convert\" onclick=\"convertToInteractive('df-840c2a31-79ae-4c32-91b1-2f260b2e6ff0')\"\n",
              "            title=\"Convert this dataframe to an interactive table.\"\n",
              "            style=\"display:none;\">\n",
              "\n",
              "  <svg xmlns=\"http://www.w3.org/2000/svg\" height=\"24px\" viewBox=\"0 -960 960 960\">\n",
              "    <path d=\"M120-120v-720h720v720H120Zm60-500h600v-160H180v160Zm220 220h160v-160H400v160Zm0 220h160v-160H400v160ZM180-400h160v-160H180v160Zm440 0h160v-160H620v160ZM180-180h160v-160H180v160Zm440 0h160v-160H620v160Z\"/>\n",
              "  </svg>\n",
              "    </button>\n",
              "\n",
              "  <style>\n",
              "    .colab-df-container {\n",
              "      display:flex;\n",
              "      gap: 12px;\n",
              "    }\n",
              "\n",
              "    .colab-df-convert {\n",
              "      background-color: #E8F0FE;\n",
              "      border: none;\n",
              "      border-radius: 50%;\n",
              "      cursor: pointer;\n",
              "      display: none;\n",
              "      fill: #1967D2;\n",
              "      height: 32px;\n",
              "      padding: 0 0 0 0;\n",
              "      width: 32px;\n",
              "    }\n",
              "\n",
              "    .colab-df-convert:hover {\n",
              "      background-color: #E2EBFA;\n",
              "      box-shadow: 0px 1px 2px rgba(60, 64, 67, 0.3), 0px 1px 3px 1px rgba(60, 64, 67, 0.15);\n",
              "      fill: #174EA6;\n",
              "    }\n",
              "\n",
              "    .colab-df-buttons div {\n",
              "      margin-bottom: 4px;\n",
              "    }\n",
              "\n",
              "    [theme=dark] .colab-df-convert {\n",
              "      background-color: #3B4455;\n",
              "      fill: #D2E3FC;\n",
              "    }\n",
              "\n",
              "    [theme=dark] .colab-df-convert:hover {\n",
              "      background-color: #434B5C;\n",
              "      box-shadow: 0px 1px 3px 1px rgba(0, 0, 0, 0.15);\n",
              "      filter: drop-shadow(0px 1px 2px rgba(0, 0, 0, 0.3));\n",
              "      fill: #FFFFFF;\n",
              "    }\n",
              "  </style>\n",
              "\n",
              "    <script>\n",
              "      const buttonEl =\n",
              "        document.querySelector('#df-840c2a31-79ae-4c32-91b1-2f260b2e6ff0 button.colab-df-convert');\n",
              "      buttonEl.style.display =\n",
              "        google.colab.kernel.accessAllowed ? 'block' : 'none';\n",
              "\n",
              "      async function convertToInteractive(key) {\n",
              "        const element = document.querySelector('#df-840c2a31-79ae-4c32-91b1-2f260b2e6ff0');\n",
              "        const dataTable =\n",
              "          await google.colab.kernel.invokeFunction('convertToInteractive',\n",
              "                                                    [key], {});\n",
              "        if (!dataTable) return;\n",
              "\n",
              "        const docLinkHtml = 'Like what you see? Visit the ' +\n",
              "          '<a target=\"_blank\" href=https://colab.research.google.com/notebooks/data_table.ipynb>data table notebook</a>'\n",
              "          + ' to learn more about interactive tables.';\n",
              "        element.innerHTML = '';\n",
              "        dataTable['output_type'] = 'display_data';\n",
              "        await google.colab.output.renderOutput(dataTable, element);\n",
              "        const docLink = document.createElement('div');\n",
              "        docLink.innerHTML = docLinkHtml;\n",
              "        element.appendChild(docLink);\n",
              "      }\n",
              "    </script>\n",
              "  </div>\n",
              "\n",
              "\n",
              "<div id=\"df-4f352cf0-f823-4969-b5fe-780a9b869000\">\n",
              "  <button class=\"colab-df-quickchart\" onclick=\"quickchart('df-4f352cf0-f823-4969-b5fe-780a9b869000')\"\n",
              "            title=\"Suggest charts\"\n",
              "            style=\"display:none;\">\n",
              "\n",
              "<svg xmlns=\"http://www.w3.org/2000/svg\" height=\"24px\"viewBox=\"0 0 24 24\"\n",
              "     width=\"24px\">\n",
              "    <g>\n",
              "        <path d=\"M19 3H5c-1.1 0-2 .9-2 2v14c0 1.1.9 2 2 2h14c1.1 0 2-.9 2-2V5c0-1.1-.9-2-2-2zM9 17H7v-7h2v7zm4 0h-2V7h2v10zm4 0h-2v-4h2v4z\"/>\n",
              "    </g>\n",
              "</svg>\n",
              "  </button>\n",
              "\n",
              "<style>\n",
              "  .colab-df-quickchart {\n",
              "      --bg-color: #E8F0FE;\n",
              "      --fill-color: #1967D2;\n",
              "      --hover-bg-color: #E2EBFA;\n",
              "      --hover-fill-color: #174EA6;\n",
              "      --disabled-fill-color: #AAA;\n",
              "      --disabled-bg-color: #DDD;\n",
              "  }\n",
              "\n",
              "  [theme=dark] .colab-df-quickchart {\n",
              "      --bg-color: #3B4455;\n",
              "      --fill-color: #D2E3FC;\n",
              "      --hover-bg-color: #434B5C;\n",
              "      --hover-fill-color: #FFFFFF;\n",
              "      --disabled-bg-color: #3B4455;\n",
              "      --disabled-fill-color: #666;\n",
              "  }\n",
              "\n",
              "  .colab-df-quickchart {\n",
              "    background-color: var(--bg-color);\n",
              "    border: none;\n",
              "    border-radius: 50%;\n",
              "    cursor: pointer;\n",
              "    display: none;\n",
              "    fill: var(--fill-color);\n",
              "    height: 32px;\n",
              "    padding: 0;\n",
              "    width: 32px;\n",
              "  }\n",
              "\n",
              "  .colab-df-quickchart:hover {\n",
              "    background-color: var(--hover-bg-color);\n",
              "    box-shadow: 0 1px 2px rgba(60, 64, 67, 0.3), 0 1px 3px 1px rgba(60, 64, 67, 0.15);\n",
              "    fill: var(--button-hover-fill-color);\n",
              "  }\n",
              "\n",
              "  .colab-df-quickchart-complete:disabled,\n",
              "  .colab-df-quickchart-complete:disabled:hover {\n",
              "    background-color: var(--disabled-bg-color);\n",
              "    fill: var(--disabled-fill-color);\n",
              "    box-shadow: none;\n",
              "  }\n",
              "\n",
              "  .colab-df-spinner {\n",
              "    border: 2px solid var(--fill-color);\n",
              "    border-color: transparent;\n",
              "    border-bottom-color: var(--fill-color);\n",
              "    animation:\n",
              "      spin 1s steps(1) infinite;\n",
              "  }\n",
              "\n",
              "  @keyframes spin {\n",
              "    0% {\n",
              "      border-color: transparent;\n",
              "      border-bottom-color: var(--fill-color);\n",
              "      border-left-color: var(--fill-color);\n",
              "    }\n",
              "    20% {\n",
              "      border-color: transparent;\n",
              "      border-left-color: var(--fill-color);\n",
              "      border-top-color: var(--fill-color);\n",
              "    }\n",
              "    30% {\n",
              "      border-color: transparent;\n",
              "      border-left-color: var(--fill-color);\n",
              "      border-top-color: var(--fill-color);\n",
              "      border-right-color: var(--fill-color);\n",
              "    }\n",
              "    40% {\n",
              "      border-color: transparent;\n",
              "      border-right-color: var(--fill-color);\n",
              "      border-top-color: var(--fill-color);\n",
              "    }\n",
              "    60% {\n",
              "      border-color: transparent;\n",
              "      border-right-color: var(--fill-color);\n",
              "    }\n",
              "    80% {\n",
              "      border-color: transparent;\n",
              "      border-right-color: var(--fill-color);\n",
              "      border-bottom-color: var(--fill-color);\n",
              "    }\n",
              "    90% {\n",
              "      border-color: transparent;\n",
              "      border-bottom-color: var(--fill-color);\n",
              "    }\n",
              "  }\n",
              "</style>\n",
              "\n",
              "  <script>\n",
              "    async function quickchart(key) {\n",
              "      const quickchartButtonEl =\n",
              "        document.querySelector('#' + key + ' button');\n",
              "      quickchartButtonEl.disabled = true;  // To prevent multiple clicks.\n",
              "      quickchartButtonEl.classList.add('colab-df-spinner');\n",
              "      try {\n",
              "        const charts = await google.colab.kernel.invokeFunction(\n",
              "            'suggestCharts', [key], {});\n",
              "      } catch (error) {\n",
              "        console.error('Error during call to suggestCharts:', error);\n",
              "      }\n",
              "      quickchartButtonEl.classList.remove('colab-df-spinner');\n",
              "      quickchartButtonEl.classList.add('colab-df-quickchart-complete');\n",
              "    }\n",
              "    (() => {\n",
              "      let quickchartButtonEl =\n",
              "        document.querySelector('#df-4f352cf0-f823-4969-b5fe-780a9b869000 button');\n",
              "      quickchartButtonEl.style.display =\n",
              "        google.colab.kernel.accessAllowed ? 'block' : 'none';\n",
              "    })();\n",
              "  </script>\n",
              "</div>\n",
              "\n",
              "    </div>\n",
              "  </div>\n"
            ],
            "application/vnd.google.colaboratory.intrinsic+json": {
              "type": "dataframe",
              "variable_name": "df",
              "summary": "{\n  \"name\": \"df\",\n  \"rows\": 54214,\n  \"fields\": [\n    {\n      \"column\": \"Title\",\n      \"properties\": {\n        \"dtype\": \"string\",\n        \"num_unique_values\": 54214,\n        \"samples\": [\n          \" Sisterhood (2008) \",\n          \" Idylle (1983) \",\n          \" The Lost Skeleton Returns Again (2009) \"\n        ],\n        \"semantic_type\": \"\",\n        \"description\": \"\"\n      }\n    },\n    {\n      \"column\": \"Genre\",\n      \"properties\": {\n        \"dtype\": \"category\",\n        \"num_unique_values\": 27,\n        \"samples\": [\n          \" sport \",\n          \" sci-fi \",\n          \" animation \"\n        ],\n        \"semantic_type\": \"\",\n        \"description\": \"\"\n      }\n    },\n    {\n      \"column\": \"Description\",\n      \"properties\": {\n        \"dtype\": \"string\",\n        \"num_unique_values\": 54086,\n        \"samples\": [\n          \" When a celestial event causes a depressed call centre employee to gain amazing abilities, he is told that he is actually the reincarnation of a powerful warrior. With his new-found ally, he must find out who he must become before the forces who seek his destruction find him.\",\n          \" Set against a lush Western Indian landscape during the monsoon season, CHITRAKUT delicately sets the tone, interweaving the lives of Saloni, Shaan, Debu, Alisha and Kim - all converging at different intersections of life, discovering the meaning of love, encapsulating fractured feelings, consumption of romantic longing and fleeting moments.\",\n          \" It is just after midnight. A family is fast asleep on a vast sofa in\\u00a0front of a television. They are woken abruptly by the sound track of the film they are watching, and find themselves being quite literally\\u00a0moved by the exhilarating sounds and images emanating from the\\u00a0screen.\"\n        ],\n        \"semantic_type\": \"\",\n        \"description\": \"\"\n      }\n    }\n  ]\n}"
            }
          },
          "metadata": {},
          "execution_count": 4
        }
      ]
    },
    {
      "cell_type": "code",
      "source": [
        "df.shape"
      ],
      "metadata": {
        "colab": {
          "base_uri": "https://localhost:8080/"
        },
        "id": "rHwePPw-J2UI",
        "outputId": "cac3065e-898f-4835-cd50-3ef06a9ab9d9"
      },
      "execution_count": 5,
      "outputs": [
        {
          "output_type": "execute_result",
          "data": {
            "text/plain": [
              "(54214, 3)"
            ]
          },
          "metadata": {},
          "execution_count": 5
        }
      ]
    },
    {
      "cell_type": "code",
      "source": [
        "#Checking for null values\n",
        "\n",
        "df.isnull().sum()"
      ],
      "metadata": {
        "colab": {
          "base_uri": "https://localhost:8080/",
          "height": 178
        },
        "id": "fFs0d5LNJ-mv",
        "outputId": "575abd2c-9c1b-47ad-b354-38ab93e3b062"
      },
      "execution_count": 6,
      "outputs": [
        {
          "output_type": "execute_result",
          "data": {
            "text/plain": [
              "Title          0\n",
              "Genre          0\n",
              "Description    0\n",
              "dtype: int64"
            ],
            "text/html": [
              "<div>\n",
              "<style scoped>\n",
              "    .dataframe tbody tr th:only-of-type {\n",
              "        vertical-align: middle;\n",
              "    }\n",
              "\n",
              "    .dataframe tbody tr th {\n",
              "        vertical-align: top;\n",
              "    }\n",
              "\n",
              "    .dataframe thead th {\n",
              "        text-align: right;\n",
              "    }\n",
              "</style>\n",
              "<table border=\"1\" class=\"dataframe\">\n",
              "  <thead>\n",
              "    <tr style=\"text-align: right;\">\n",
              "      <th></th>\n",
              "      <th>0</th>\n",
              "    </tr>\n",
              "  </thead>\n",
              "  <tbody>\n",
              "    <tr>\n",
              "      <th>Title</th>\n",
              "      <td>0</td>\n",
              "    </tr>\n",
              "    <tr>\n",
              "      <th>Genre</th>\n",
              "      <td>0</td>\n",
              "    </tr>\n",
              "    <tr>\n",
              "      <th>Description</th>\n",
              "      <td>0</td>\n",
              "    </tr>\n",
              "  </tbody>\n",
              "</table>\n",
              "</div><br><label><b>dtype:</b> int64</label>"
            ]
          },
          "metadata": {},
          "execution_count": 6
        }
      ]
    },
    {
      "cell_type": "markdown",
      "source": [
        "##**3. Data Wrangling:**\n",
        "Now we will clean, structure, and transform raw data into a format suitable for analysis"
      ],
      "metadata": {
        "id": "mjs09LPFL3tJ"
      }
    },
    {
      "cell_type": "markdown",
      "source": [
        "###3.1. Looking for different Genres"
      ],
      "metadata": {
        "id": "EdGv_q7EMSUX"
      }
    },
    {
      "cell_type": "code",
      "source": [
        "classes = df['Genre'].unique()\n",
        "classes"
      ],
      "metadata": {
        "colab": {
          "base_uri": "https://localhost:8080/"
        },
        "id": "39KSbAinLZIK",
        "outputId": "f41a84eb-55f3-40fe-8974-89f4dd433647"
      },
      "execution_count": 7,
      "outputs": [
        {
          "output_type": "execute_result",
          "data": {
            "text/plain": [
              "array([' drama ', ' thriller ', ' adult ', ' documentary ', ' comedy ',\n",
              "       ' crime ', ' reality-tv ', ' horror ', ' sport ', ' animation ',\n",
              "       ' action ', ' fantasy ', ' short ', ' sci-fi ', ' music ',\n",
              "       ' adventure ', ' talk-show ', ' western ', ' family ', ' mystery ',\n",
              "       ' history ', ' news ', ' biography ', ' romance ', ' game-show ',\n",
              "       ' musical ', ' war '], dtype=object)"
            ]
          },
          "metadata": {},
          "execution_count": 7
        }
      ]
    },
    {
      "cell_type": "code",
      "source": [
        "#Count of Genres in the dataset\n",
        "n_classes = df['Genre'].nunique()\n",
        "n_classes"
      ],
      "metadata": {
        "colab": {
          "base_uri": "https://localhost:8080/"
        },
        "id": "fyjG0lyDNOd2",
        "outputId": "59eb5fac-12cb-48bd-a3bb-c71b57448777"
      },
      "execution_count": 8,
      "outputs": [
        {
          "output_type": "execute_result",
          "data": {
            "text/plain": [
              "27"
            ]
          },
          "metadata": {},
          "execution_count": 8
        }
      ]
    },
    {
      "cell_type": "markdown",
      "source": [
        "###3.2. Handling Duplicates"
      ],
      "metadata": {
        "id": "gB-afN_Mb2mJ"
      }
    },
    {
      "cell_type": "code",
      "source": [
        "# Check for duplicates and remove them\n",
        "print(f\"Duplicates before: {df.duplicated().sum()}\")\n",
        "df = df.drop_duplicates()\n",
        "print(f\"Duplicates after: {df.duplicated().sum()}\")"
      ],
      "metadata": {
        "colab": {
          "base_uri": "https://localhost:8080/"
        },
        "id": "RIxBhSRxb_o0",
        "outputId": "33e5ef05-7432-42ed-8ada-359f2996bb15"
      },
      "execution_count": 19,
      "outputs": [
        {
          "output_type": "stream",
          "name": "stdout",
          "text": [
            "Duplicates before: 0\n",
            "Duplicates after: 0\n"
          ]
        }
      ]
    },
    {
      "cell_type": "markdown",
      "source": [
        "###**4. EDA (Exploatory Data Analysis)**\n",
        "We will now visualize the Genre with the help of a bar diagram"
      ],
      "metadata": {
        "id": "A_D0jHvsNhD2"
      }
    },
    {
      "cell_type": "code",
      "source": [
        "plt.figure(figsize=(20,10))\n",
        "sns.countplot(data=df,x='Genre', hue='Genre', legend=False)\n",
        "plt.title('Distribution of Genres', fontsize=20, weight='bold')\n",
        "plt.xticks(rotation=45)\n",
        "plt.show()"
      ],
      "metadata": {
        "colab": {
          "base_uri": "https://localhost:8080/",
          "height": 721
        },
        "id": "aG7LzS05N5X8",
        "outputId": "5505dbb4-7ac7-4731-bbcc-f13f49ae3b31"
      },
      "execution_count": 18,
      "outputs": [
        {
          "output_type": "display_data",
          "data": {
            "text/plain": [
              "<Figure size 2000x1000 with 1 Axes>"
            ],
            "image/png": "[encoded data removed]"
          },
          "metadata": {}
        }
      ]
    },
    {
      "cell_type": "markdown",
      "source": [
        "Here we can see that the genre which we have the most is **drama**, followed by **documentary**, and **comedy**."
      ],
      "metadata": {
        "id": "I_VKExhwQSaF"
      }
    },
    {
      "cell_type": "markdown",
      "source": [
        "##**5. Text Preprocessing:**\n",
        "We will preprocess the text data (plot summaries) to clean it and prepare it for vectorization. The process includes:\n",
        "1. Lowercasing text.\n",
        "2. Removing punctuation, special characters, and stopwords.\n",
        "3. Tokenizing text into words.\n",
        "\n"
      ],
      "metadata": {
        "id": "A51floCDcSb8"
      }
    },
    {
      "cell_type": "code",
      "source": [
        "import re\n",
        "import nltk\n",
        "from nltk.corpus import stopwords\n",
        "\n",
        "# Download stopwords if not already done\n",
        "nltk.download('stopwords')\n",
        "stop_words = set(stopwords.words('english'))\n",
        "\n",
        "# Function to clean text\n",
        "def clean_text(text):\n",
        "    text = text.lower()  # Convert to lowercase\n",
        "    text = re.sub(r'[^\\w\\s]', '', text)  # Remove punctuation\n",
        "    text = re.sub(r'\\d+', '', text)  # Remove numbers\n",
        "    text = ' '.join(word for word in text.split() if word not in stop_words)  # Remove stopwords\n",
        "    return text\n",
        "\n",
        "# Apply cleaning function to the Description column\n",
        "df['Cleaned_Plot'] = df['Description'].apply(clean_text)\n",
        "\n",
        "# Display a few examples\n",
        "print(df[['Description', 'Cleaned_Plot']].head())"
      ],
      "metadata": {
        "colab": {
          "base_uri": "https://localhost:8080/"
        },
        "id": "w9ni_iiGcxrC",
        "outputId": "359484c6-173d-4649-f947-81a7e008586e"
      },
      "execution_count": 23,
      "outputs": [
        {
          "output_type": "stream",
          "name": "stderr",
          "text": [
            "[nltk_data] Downloading package stopwords to /root/nltk_data...\n",
            "[nltk_data]   Package stopwords is already up-to-date!\n"
          ]
        },
        {
          "output_type": "stream",
          "name": "stdout",
          "text": [
            "                                         Description  \\\n",
            "1   Listening in to a conversation between his do...   \n",
            "2   A brother and sister with a past incestuous r...   \n",
            "3   As the bus empties the students for their fie...   \n",
            "4   To help their unemployed father make ends mee...   \n",
            "5   The film's title refers not only to the un-re...   \n",
            "\n",
            "                                        Cleaned_Plot  \n",
            "1  listening conversation doctor parents yearold ...  \n",
            "2  brother sister past incestuous relationship cu...  \n",
            "3  bus empties students field trip museum natural...  \n",
            "4  help unemployed father make ends meet edith tw...  \n",
            "5  films title refers unrecovered bodies ground z...  \n"
          ]
        }
      ]
    },
    {
      "cell_type": "markdown",
      "source": [
        "##**6. Vectorize the Text Using TF-IDF:**\n",
        "We’ll transform the cleaned text data into numerical features using TF-IDF (Term Frequency-Inverse Document Frequency). This will convert the plot summaries into vectors that can be used as input for machine learning models."
      ],
      "metadata": {
        "id": "WdsDMt8DegUG"
      }
    },
    {
      "cell_type": "code",
      "source": [
        "from sklearn.feature_extraction.text import TfidfVectorizer\n",
        "\n",
        "# Initialize TF-IDF Vectorizer\n",
        "tfidf_vectorizer = TfidfVectorizer(max_features=5000)  # Limit to 5000 features to keep it manageable\n",
        "\n",
        "# Fit and transform the cleaned text\n",
        "X = tfidf_vectorizer.fit_transform(df['Cleaned_Plot'])\n",
        "\n",
        "# Convert to array for easier manipulation\n",
        "X_array = X.toarray()\n",
        "\n",
        "# Print shape of resulting matrix\n",
        "print(f\"TF-IDF matrix shape: {X_array.shape}\")"
      ],
      "metadata": {
        "colab": {
          "base_uri": "https://localhost:8080/"
        },
        "id": "jzjHsWJmfMmU",
        "outputId": "7f6ebd59-cb66-4d31-c00d-9b05d87e537c"
      },
      "execution_count": 24,
      "outputs": [
        {
          "output_type": "stream",
          "name": "stdout",
          "text": [
            "TF-IDF matrix shape: (54214, 5000)\n"
          ]
        }
      ]
    },
    {
      "cell_type": "markdown",
      "source": [
        "* The TF-IDF vectorizer converts each plot summary into a numerical vector of size 5000 (or the number of features you choose).\n",
        "* The resulting X is a sparse matrix, with each row representing a movie and each column representing a word feature."
      ],
      "metadata": {
        "id": "orkQeKF7fhSI"
      }
    },
    {
      "cell_type": "markdown",
      "source": [
        "##**7. Encode the Genres:**\n",
        "We need to convert the genres (categorical labels) into numerical format since machine learning models work with numbers. We will use **LabelEncoder** to transform the genres into integers."
      ],
      "metadata": {
        "id": "jPYgv4gwgC7a"
      }
    },
    {
      "cell_type": "code",
      "source": [
        "from sklearn.preprocessing import LabelEncoder\n",
        "\n",
        "# Initialize the LabelEncoder\n",
        "label_encoder = LabelEncoder()\n",
        "\n",
        "# Fit and transform the target variable (Genre)\n",
        "y = label_encoder.fit_transform(df['Genre'])\n",
        "\n",
        "# Display the mapping of genres to numerical labels\n",
        "label_mapping = dict(zip(label_encoder.classes_, range(len(label_encoder.classes_))))\n",
        "print(\"Label Mapping:\", label_mapping)\n",
        "\n",
        "# Check the transformed target variable\n",
        "print(\"Encoded Genres:\", y[:10])  # Show the first 10 encoded genres"
      ],
      "metadata": {
        "colab": {
          "base_uri": "https://localhost:8080/"
        },
        "id": "EDSHyVf-gZ55",
        "outputId": "d69b664d-2389-458b-ab5c-c716c56730f6"
      },
      "execution_count": 25,
      "outputs": [
        {
          "output_type": "stream",
          "name": "stdout",
          "text": [
            "Label Mapping: {' action ': 0, ' adult ': 1, ' adventure ': 2, ' animation ': 3, ' biography ': 4, ' comedy ': 5, ' crime ': 6, ' documentary ': 7, ' drama ': 8, ' family ': 9, ' fantasy ': 10, ' game-show ': 11, ' history ': 12, ' horror ': 13, ' music ': 14, ' musical ': 15, ' mystery ': 16, ' news ': 17, ' reality-tv ': 18, ' romance ': 19, ' sci-fi ': 20, ' short ': 21, ' sport ': 22, ' talk-show ': 23, ' thriller ': 24, ' war ': 25, ' western ': 26}\n",
            "Encoded Genres: [ 8 24  1  8  8  7  5  6 18 13]\n"
          ]
        }
      ]
    },
    {
      "cell_type": "markdown",
      "source": [
        "* **labelencoder** assigns a unique number to each genre.\n",
        "* The y variable now contains the numerical labels for the genres, ready for training the model."
      ],
      "metadata": {
        "id": "62tM0mr1gycx"
      }
    },
    {
      "cell_type": "markdown",
      "source": [
        "##**8. Splitting the data:**"
      ],
      "metadata": {
        "id": "XOL_Z0cNg8gf"
      }
    },
    {
      "cell_type": "code",
      "source": [
        "from sklearn.model_selection import train_test_split\n",
        "\n",
        "# Split the data into training and testing sets\n",
        "X_train, X_test, y_train, y_test = train_test_split(X, y, test_size=0.2, random_state=42)\n",
        "\n",
        "# Print the shapes of the resulting datasets\n",
        "print(f\"Training set shape: {X_train.shape}, {y_train.shape}\")\n",
        "print(f\"Testing set shape: {X_test.shape}, {y_test.shape}\")"
      ],
      "metadata": {
        "colab": {
          "base_uri": "https://localhost:8080/"
        },
        "id": "4XXmTg_xg7bh",
        "outputId": "13b2522b-6b83-4b2c-bfef-9d8cf1a365be"
      },
      "execution_count": 26,
      "outputs": [
        {
          "output_type": "stream",
          "name": "stdout",
          "text": [
            "Training set shape: (43371, 5000), (43371,)\n",
            "Testing set shape: (10843, 5000), (10843,)\n"
          ]
        }
      ]
    },
    {
      "cell_type": "markdown",
      "source": [
        "##**9. Logistic Regression:**"
      ],
      "metadata": {
        "id": "Gov3fxr6iD3j"
      }
    },
    {
      "cell_type": "code",
      "source": [
        "from sklearn.linear_model import LogisticRegression\n",
        "from sklearn.metrics import accuracy_score, precision_score, recall_score, f1_score, classification_report\n",
        "\n",
        "# Initialize Logistic Regression model\n",
        "logreg = LogisticRegression(max_iter=1000, random_state=42)\n",
        "\n",
        "# Train the model on the training data\n",
        "logreg.fit(X_train, y_train)\n",
        "\n",
        "# Make predictions on the test data\n",
        "y_pred = logreg.predict(X_test)\n",
        "\n",
        "# Evaluate the model\n",
        "print(\"Model Performance Metrics:\")\n",
        "print(f\"Accuracy: {accuracy_score(y_test, y_pred):.2f}\")\n",
        "print(f\"Precision: {precision_score(y_test, y_pred, average='weighted', zero_division=1):.2f}\")\n",
        "print(f\"Recall: {recall_score(y_test, y_pred, average='weighted', zero_division=1):.2f}\")\n",
        "print(f\"F1-Score: {f1_score(y_test, y_pred, average='weighted', zero_division=1):.2f}\")\n",
        "print(\"\\nClassification Report:\")\n",
        "print(classification_report(y_test, y_pred, zero_division=1))"
      ],
      "metadata": {
        "colab": {
          "base_uri": "https://localhost:8080/"
        },
        "id": "xIgT843liLvd",
        "outputId": "09f3622f-5145-41ef-ea81-aee05cb78143"
      },
      "execution_count": 28,
      "outputs": [
        {
          "output_type": "stream",
          "name": "stdout",
          "text": [
            "Model Performance Metrics:\n",
            "Accuracy: 0.58\n",
            "Precision: 0.57\n",
            "Recall: 0.58\n",
            "F1-Score: 0.54\n",
            "\n",
            "Classification Report:\n",
            "              precision    recall  f1-score   support\n",
            "\n",
            "           0       0.49      0.25      0.33       263\n",
            "           1       0.78      0.22      0.35       112\n",
            "           2       0.41      0.14      0.21       139\n",
            "           3       0.64      0.09      0.15       104\n",
            "           4       1.00      0.00      0.00        61\n",
            "           5       0.51      0.58      0.54      1443\n",
            "           6       0.20      0.01      0.02       107\n",
            "           7       0.67      0.84      0.75      2659\n",
            "           8       0.54      0.78      0.64      2697\n",
            "           9       0.50      0.09      0.16       150\n",
            "          10       0.00      0.00      0.00        74\n",
            "          11       0.94      0.42      0.59        40\n",
            "          12       1.00      0.00      0.00        45\n",
            "          13       0.62      0.55      0.58       431\n",
            "          14       0.65      0.47      0.55       144\n",
            "          15       0.33      0.02      0.04        50\n",
            "          16       1.00      0.00      0.00        56\n",
            "          17       1.00      0.03      0.06        34\n",
            "          18       0.48      0.19      0.28       192\n",
            "          19       0.14      0.01      0.01       151\n",
            "          20       0.53      0.22      0.31       143\n",
            "          21       0.47      0.33      0.39      1045\n",
            "          22       0.63      0.18      0.28        93\n",
            "          23       0.48      0.14      0.21        81\n",
            "          24       0.41      0.15      0.21       309\n",
            "          25       1.00      0.00      0.00        20\n",
            "          26       0.95      0.73      0.83       200\n",
            "\n",
            "    accuracy                           0.58     10843\n",
            "   macro avg       0.61      0.24      0.28     10843\n",
            "weighted avg       0.57      0.58      0.54     10843\n",
            "\n"
          ]
        }
      ]
    },
    {
      "cell_type": "markdown",
      "source": [
        "##**10. Naive Bayes Classifier:**\n",
        "Since we are working with text data, Multinomial Naive Bayes is a good choice as it performs well on word-count."
      ],
      "metadata": {
        "id": "WxCW-Kg8jv7-"
      }
    },
    {
      "cell_type": "code",
      "source": [
        "from sklearn.naive_bayes import MultinomialNB\n",
        "\n",
        "# Initialize Multinomial Naive Bayes\n",
        "nb_classifier = MultinomialNB()\n",
        "\n",
        "# Train the Naive Bayes model on the training data\n",
        "nb_classifier.fit(X_train, y_train)\n",
        "\n",
        "# Make predictions on the test data\n",
        "y_pred_nb = nb_classifier.predict(X_test)\n",
        "\n",
        "# Evaluate the model\n",
        "print(\"Naive Bayes Model Performance Metrics:\")\n",
        "print(f\"Accuracy: {accuracy_score(y_test, y_pred_nb):.2f}\")\n",
        "print(f\"Precision: {precision_score(y_test, y_pred_nb, average='weighted', zero_division=1):.2f}\")\n",
        "print(f\"Recall: {recall_score(y_test, y_pred_nb, average='weighted', zero_division=1):.2f}\")\n",
        "print(f\"F1-Score: {f1_score(y_test, y_pred_nb, average='weighted', zero_division=1):.2f}\")\n",
        "print(\"\\nClassification Report:\")\n",
        "print(classification_report(y_test, y_pred_nb, zero_division=1))"
      ],
      "metadata": {
        "colab": {
          "base_uri": "https://localhost:8080/"
        },
        "id": "NENAPYCJkALO",
        "outputId": "6d8f0be6-10ba-4221-8bc6-3e6fab43e04f"
      },
      "execution_count": 29,
      "outputs": [
        {
          "output_type": "stream",
          "name": "stdout",
          "text": [
            "Naive Bayes Model Performance Metrics:\n",
            "Accuracy: 0.52\n",
            "Precision: 0.59\n",
            "Recall: 0.52\n",
            "F1-Score: 0.44\n",
            "\n",
            "Classification Report:\n",
            "              precision    recall  f1-score   support\n",
            "\n",
            "           0       0.55      0.08      0.14       263\n",
            "           1       1.00      0.05      0.10       112\n",
            "           2       0.40      0.04      0.08       139\n",
            "           3       1.00      0.00      0.00       104\n",
            "           4       1.00      0.00      0.00        61\n",
            "           5       0.51      0.43      0.47      1443\n",
            "           6       1.00      0.00      0.00       107\n",
            "           7       0.58      0.88      0.70      2659\n",
            "           8       0.45      0.83      0.59      2697\n",
            "           9       1.00      0.01      0.01       150\n",
            "          10       1.00      0.00      0.00        74\n",
            "          11       1.00      0.15      0.26        40\n",
            "          12       1.00      0.00      0.00        45\n",
            "          13       0.72      0.34      0.47       431\n",
            "          14       0.77      0.12      0.20       144\n",
            "          15       1.00      0.00      0.00        50\n",
            "          16       1.00      0.00      0.00        56\n",
            "          17       1.00      0.00      0.00        34\n",
            "          18       0.50      0.02      0.03       192\n",
            "          19       1.00      0.00      0.00       151\n",
            "          20       0.40      0.01      0.03       143\n",
            "          21       0.61      0.10      0.17      1045\n",
            "          22       0.73      0.09      0.15        93\n",
            "          23       1.00      0.00      0.00        81\n",
            "          24       0.43      0.02      0.04       309\n",
            "          25       1.00      0.00      0.00        20\n",
            "          26       0.97      0.58      0.73       200\n",
            "\n",
            "    accuracy                           0.52     10843\n",
            "   macro avg       0.80      0.14      0.15     10843\n",
            "weighted avg       0.59      0.52      0.44     10843\n",
            "\n"
          ]
        }
      ]
    },
    {
      "cell_type": "markdown",
      "source": [
        "##**11. Support Vector Machine (SVM):**"
      ],
      "metadata": {
        "id": "VGBR6QUqkYZm"
      }
    },
    {
      "cell_type": "code",
      "source": [
        "from sklearn.svm import SVC\n",
        "\n",
        "# Initialize Support Vector Classifier\n",
        "svm_classifier = SVC(kernel='linear', random_state=42)\n",
        "\n",
        "# Train the SVM model on the training data\n",
        "svm_classifier.fit(X_train, y_train)\n",
        "\n",
        "# Make predictions on the test data\n",
        "y_pred_svm = svm_classifier.predict(X_test)\n",
        "\n",
        "# Evaluate the model\n",
        "print(\"SVM Model Performance Metrics:\")\n",
        "print(f\"Accuracy: {accuracy_score(y_test, y_pred_svm):.2f}\")\n",
        "print(f\"Precision: {precision_score(y_test, y_pred_svm, average='weighted', zero_division=1):.2f}\")\n",
        "print(f\"Recall: {recall_score(y_test, y_pred_svm, average='weighted', zero_division=1):.2f}\")\n",
        "print(f\"F1-Score: {f1_score(y_test, y_pred_svm, average='weighted', zero_division=1):.2f}\")\n",
        "print(\"\\nClassification Report:\")\n",
        "print(classification_report(y_test, y_pred_svm, zero_division=1))"
      ],
      "metadata": {
        "colab": {
          "base_uri": "https://localhost:8080/"
        },
        "id": "YePMtsejkkAT",
        "outputId": "97e30719-ec22-4f72-f0ef-0abf1022cade"
      },
      "execution_count": 30,
      "outputs": [
        {
          "output_type": "stream",
          "name": "stdout",
          "text": [
            "SVM Model Performance Metrics:\n",
            "Accuracy: 0.58\n",
            "Precision: 0.57\n",
            "Recall: 0.58\n",
            "F1-Score: 0.55\n",
            "\n",
            "Classification Report:\n",
            "              precision    recall  f1-score   support\n",
            "\n",
            "           0       0.43      0.32      0.36       263\n",
            "           1       0.69      0.38      0.49       112\n",
            "           2       0.46      0.24      0.32       139\n",
            "           3       0.55      0.15      0.24       104\n",
            "           4       1.00      0.00      0.00        61\n",
            "           5       0.51      0.59      0.55      1443\n",
            "           6       0.13      0.02      0.03       107\n",
            "           7       0.68      0.83      0.75      2659\n",
            "           8       0.55      0.75      0.63      2697\n",
            "           9       0.31      0.09      0.14       150\n",
            "          10       0.29      0.03      0.05        74\n",
            "          11       0.92      0.57      0.71        40\n",
            "          12       1.00      0.00      0.00        45\n",
            "          13       0.64      0.61      0.62       431\n",
            "          14       0.64      0.53      0.58       144\n",
            "          15       0.50      0.06      0.11        50\n",
            "          16       0.75      0.05      0.10        56\n",
            "          17       0.50      0.06      0.11        34\n",
            "          18       0.57      0.31      0.40       192\n",
            "          19       0.00      0.00      0.00       151\n",
            "          20       0.54      0.31      0.40       143\n",
            "          21       0.48      0.32      0.39      1045\n",
            "          22       0.68      0.27      0.38        93\n",
            "          23       0.59      0.21      0.31        81\n",
            "          24       0.40      0.14      0.21       309\n",
            "          25       0.67      0.10      0.17        20\n",
            "          26       0.93      0.78      0.85       200\n",
            "\n",
            "    accuracy                           0.58     10843\n",
            "   macro avg       0.57      0.29      0.33     10843\n",
            "weighted avg       0.57      0.58      0.55     10843\n",
            "\n"
          ]
        }
      ]
    },
    {
      "cell_type": "markdown",
      "source": [
        "#**12. Conclusion:**\n",
        "In this assignment, I built a machine learning model to predict movie genres based on plot summaries. The process involved the following key steps:\n",
        "\n",
        "* I used **TF-IDF** to transform the plot summaries into numerical features that can be used for classification.\n",
        "* I trained multiple classifiers, including **Logistic Regression**, **Naive Bayes**, and **Support Vector Machine (SVM)**, to predict movie genres.\n",
        "* The models were evaluated using metrics such as **accuracy**, **precision**, **recall**, and **F1-score**. The **Logistic Regression and SVM models** achieved the **highest accuracy**, both around ***58%***.\n",
        "* The results highlight that while the models performed reasonably well, there is **still room for improvement**, particularly in **handling class imbalance** and through **hyperparameter tuning**."
      ],
      "metadata": {
        "id": "xohzvYRfqxmr"
      }
    }
  ]
}